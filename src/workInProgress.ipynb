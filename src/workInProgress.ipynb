{
 "cells": [
  {
   "cell_type": "code",
   "execution_count": null,
   "metadata": {},
   "outputs": [],
   "source": [
    "const SDBCS = require('./sdbcs.js');\n",
    "\n",
    "// loss liczony tylko dla najpóźniejszych w levelu, przeliczane po dodaniu\n",
    "class SDBCSL extends SDBCS\n",
    "  constructor(config) {\n",
    "    super(config);\n",
    "  }\n",
    "\n",
    "  decorateStrategy(dag) {\n",
    "    super.decorateStrategy(dag);\n",
    "    const tasks = dag.processes;\n",
    "    const sortedTasks = tasks.sort((task1, task2) => task1.level - task2.level);\n",
    "      \n",
    "    let levelsMap = new Map();\n",
    "    tasks.forEach(task => {\n",
    "      levelsMap.get(task.level, []).push(task)\n",
    "    });\n",
    "    levelsMap.forEach((level,tasks) => {\n",
    "      levelsMap.set(level, tasks.sort((task2, task1) => task1.scheduledFinishTime - task2.scheduledFinishTime));\n",
    "    });\n",
    "      \n",
    "    let lossValues = []\n",
    "    levelsMap.forEach((level, tasks) => {\n",
    "      tasks[0]\n",
    "    });\n",
    "    let leftBudget = 0;\n",
    "    while(lossValues not Empty){\n",
    "      lossValues = tasks.sort((task1, task2) => task1.lossVal - task2.lossVal);\n",
    "      lossVal = lossValues.pop()\n",
    "      if(lossVal.budgetIncrease != )\n",
    "      applyLoss()\n",
    "    }\n",
    "    \n",
    "  }\n",
    "  \n",
    "  calculateLossVal(task){\n",
    "    return {\n",
    "      lossVal: 0,\n",
    "      task: task,\n",
    "      processor: \"nowa lambda\",\n",
    "      budgetIncrease: 0,\n",
    "      timeDecrease: 0\n",
    "    };\n",
    "  }\n",
    "  \n",
    "  applyLoss(lossVal){\n",
    "    lossVal.\n",
    "  }\n",
    "}"
   ]
  },
  {
   "cell_type": "code",
   "execution_count": null,
   "metadata": {},
   "outputs": [],
   "source": [
    "let dag = {\n",
    "    \"processes\": [\n",
    "        {\n",
    "            \"live\": 1,\n",
    "            \"scheduledFinishTime\": 150,\n",
    "            \"\"\n",
    "        }\n",
    "    ]\n",
    "}"
   ]
  }
 ],
 "metadata": {
  "kernelspec": {
   "display_name": "JavaScript (Node.js)",
   "language": "JavaScript",
   "name": "javascript"
  },
  "language_info": {
   "file_extension": ".js",
   "mimetype": "application/javascript",
   "name": "javascript",
   "version": "12.19.0"
  }
 },
 "nbformat": 4,
 "nbformat_minor": 4
}
